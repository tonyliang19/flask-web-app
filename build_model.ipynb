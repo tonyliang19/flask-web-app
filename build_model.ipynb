{
 "cells": [
  {
   "cell_type": "code",
   "execution_count": 1,
   "id": "cfaeb381-6836-4bcb-85e4-894b73372727",
   "metadata": {},
   "outputs": [],
   "source": [
    "# This is a sample abalone age predictor"
   ]
  },
  {
   "cell_type": "markdown",
   "id": "efa58224-e0d4-4b36-8926-ae46ba2644ab",
   "metadata": {
    "jp-MarkdownHeadingCollapsed": true,
    "tags": []
   },
   "source": [
    "### Imports"
   ]
  },
  {
   "cell_type": "code",
   "execution_count": 4,
   "id": "a0b25c22-4570-42c9-a640-e21477cbcbd5",
   "metadata": {},
   "outputs": [],
   "source": [
    "import joblib\n",
    "import pandas as pd\n",
    "from sklearn.ensemble import RandomForestRegressor\n",
    "from sklearn.metrics import mean_absolute_error "
   ]
  },
  {
   "cell_type": "markdown",
   "id": "46d85329-d563-4163-ba10-3587ea1df029",
   "metadata": {
    "tags": []
   },
   "source": [
    "### Load data"
   ]
  },
  {
   "cell_type": "code",
   "execution_count": 7,
   "id": "59fe26e0-e2e0-4f22-85cf-bfce16480c08",
   "metadata": {},
   "outputs": [],
   "source": [
    "# names for all columns\n",
    "names = [\"age\", \"length\", \"diameter\", \"height\",\n",
    "        \"whole_weight\", \"shucked_weight\", \"viscera_weight\",\n",
    "        \"shell_weight\", \"sex_I\", \"sex_M\"]"
   ]
  },
  {
   "cell_type": "code",
   "execution_count": 8,
   "id": "e7b7c118-92df-47d8-827c-48a3e3a47174",
   "metadata": {},
   "outputs": [],
   "source": [
    "train_df = pd.read_csv(\"../data/abalone_train.csv\",\n",
    "                      names=names)\n",
    "test_df = pd.read_csv(\"../data/abalone_validation.csv\",names=names)"
   ]
  },
  {
   "cell_type": "markdown",
   "id": "4bbe7564-ffe2-4258-8881-7d671cc81ee6",
   "metadata": {},
   "source": [
    "### Building model"
   ]
  },
  {
   "cell_type": "code",
   "execution_count": 13,
   "id": "15091536-4044-4b66-b547-e4e83a484778",
   "metadata": {},
   "outputs": [
    {
     "name": "stdout",
     "output_type": "stream",
     "text": [
      "MAE = 1.52 years\n"
     ]
    }
   ],
   "source": [
    "abalone_model = RandomForestRegressor(n_estimators=100, random_state=123).fit(train_df.drop(columns=\"age\"), train_df[\"age\"])\n",
    "\n",
    "# predicted (uses the validation data)\n",
    "predicted_age = abalone_model.predict(test_df.drop(columns=\"age\"))\n",
    "# calculates mae (metric to evaluate performance of model)\n",
    "mae = mean_absolute_error(predicted_age, test_df[\"age\"])\n",
    "print(f\"MAE = {mae:.2f} years\")\n",
    "\n"
   ]
  },
  {
   "cell_type": "markdown",
   "id": "8df023ad-b204-4598-a00c-b7bfd2f27fa6",
   "metadata": {},
   "source": [
    "### Save model"
   ]
  },
  {
   "cell_type": "code",
   "execution_count": 15,
   "id": "64ef33a6-a806-4756-aab3-2caee6653aae",
   "metadata": {},
   "outputs": [],
   "source": [
    "# Re-fit model on full dataset to get ready for deployment and save it using joblib"
   ]
  },
  {
   "cell_type": "code",
   "execution_count": null,
   "id": "0d6c0d90-b131-4abc-84f4-271b06f153a7",
   "metadata": {},
   "outputs": [],
   "source": [
    "# Note you could reduce the number of features to be considered inside the model"
   ]
  },
  {
   "cell_type": "code",
   "execution_count": 21,
   "id": "9c917ca0-aaed-46e8-ab90-b2cc930c8d73",
   "metadata": {},
   "outputs": [],
   "source": [
    "features = [\"length\", \"diameter\", \"height\", \"whole_weight\"]\n",
    "# Meaniningly concatenating train df and valid df\n",
    "full_X = pd.concat((train_df[features], test_df[features]))\n",
    "full_y = pd.concat((train_df[\"age\"], test_df[\"age\"]))\n",
    "# refit a final model\n",
    "final_model = RandomForestRegressor(n_estimators=100).fit(full_X, full_y)"
   ]
  },
  {
   "cell_type": "code",
   "execution_count": 22,
   "id": "c40e320f-a607-457f-a568-994d40392270",
   "metadata": {},
   "outputs": [],
   "source": [
    "# Now save this final model using joblib to web_api and web_appliations\n",
    "# One for api use, one for backend calculation?\n",
    "\n",
    "# Saving to api\n",
    "with open(\"web_api/abalone_predictor.joblib\", \"wb\") as f:\n",
    "    joblib.dump(final_model, f)\n",
    "# Saving to app    \n",
    "with open(\"web_application/abalone_predictor.joblib\", \"wb\") as f:\n",
    "    joblib.dump(final_model, f)"
   ]
  },
  {
   "cell_type": "markdown",
   "id": "42b4a98b-0d01-47c8-b7bb-c5934fbe012b",
   "metadata": {},
   "source": [
    "### Prediction function"
   ]
  },
  {
   "cell_type": "code",
   "execution_count": 23,
   "id": "4fb990fb-2d2b-404e-adea-e5ac2518b505",
   "metadata": {},
   "outputs": [],
   "source": [
    "# Define a function that acceps input data and returns a prediction computed\n",
    "# or evaluated by our model, and this is to be returned to user\n",
    "\n",
    "# Inputs should in JSON format (i.e. dictionary)\n",
    "input_json = {\n",
    "    \"length\": 0.41,\n",
    "    \"diameter\": 0.33,\n",
    "    \"height\": 0.10,\n",
    "    \"whole_weight\": 0.36\n",
    "}"
   ]
  },
  {
   "cell_type": "code",
   "execution_count": 34,
   "id": "bbb3eca5-328b-4c74-8735-4fd4d6b981df",
   "metadata": {},
   "outputs": [],
   "source": [
    "def return_prediction(model, input_json):\n",
    "    # Serializes the input json to a list of list of features\n",
    "    # i.e. [ [x1, x2 , x3, x4, x5]    ]\n",
    "    # makes two list for extra safe?\n",
    "    # Could just use one by removing one pair of [] below in input_data\n",
    "    input_data = [[input_json[k] for k in input_json.keys()]]\n",
    "    # Since our input_data is [[x1, x2, x3]], hence [0] to retrieve \n",
    "    # the feature array\n",
    "    prediction = model.predict(input_data)[0]\n",
    "    return prediction"
   ]
  },
  {
   "cell_type": "code",
   "execution_count": 35,
   "id": "f01d317b-a306-43e2-9f29-b491325294ef",
   "metadata": {},
   "outputs": [
    {
     "name": "stderr",
     "output_type": "stream",
     "text": [
      "/opt/conda/lib/python3.9/site-packages/sklearn/base.py:450: UserWarning: X does not have valid feature names, but RandomForestRegressor was fitted with feature names\n",
      "  warnings.warn(\n"
     ]
    },
    {
     "data": {
      "text/plain": [
       "9.28"
      ]
     },
     "execution_count": 35,
     "metadata": {},
     "output_type": "execute_result"
    }
   ],
   "source": [
    "inp = return_prediction(final_model, input_json)\n",
    "inp"
   ]
  }
 ],
 "metadata": {
  "kernelspec": {
   "display_name": "Python 3 (ipykernel)",
   "language": "python",
   "name": "python3"
  },
  "language_info": {
   "codemirror_mode": {
    "name": "ipython",
    "version": 3
   },
   "file_extension": ".py",
   "mimetype": "text/x-python",
   "name": "python",
   "nbconvert_exporter": "python",
   "pygments_lexer": "ipython3",
   "version": "3.9.7"
  }
 },
 "nbformat": 4,
 "nbformat_minor": 5
}
